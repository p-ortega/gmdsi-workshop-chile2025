{
 "cells": [
  {
   "cell_type": "markdown",
   "id": "1a5d7759",
   "metadata": {},
   "source": [
    "# The Model - La Destapada"
   ]
  },
  {
   "cell_type": "code",
   "execution_count": null,
   "id": "5cc4b72f",
   "metadata": {},
   "outputs": [],
   "source": [
    "import flopy\n",
    "import os\n",
    "import pandas as pd\n",
    "import numpy as np\n",
    "import matplotlib.pyplot as plt"
   ]
  },
  {
   "cell_type": "markdown",
   "id": "f4f5bd6b",
   "metadata": {},
   "source": [
    "# Load the model"
   ]
  },
  {
   "cell_type": "code",
   "execution_count": null,
   "id": "e7e094db",
   "metadata": {},
   "outputs": [],
   "source": [
    "# load simulation\n",
    "sim = flopy.mf6.MFSimulation.load(sim_ws=\"model\",\n",
    "                                  verbosity_level=0)\n",
    "# load flow model\n",
    "gwf = sim.get_model()"
   ]
  },
  {
   "cell_type": "markdown",
   "id": "5d6a68ae",
   "metadata": {},
   "source": [
    "# Let's check the grid"
   ]
  },
  {
   "cell_type": "code",
   "execution_count": null,
   "id": "1c5c5957",
   "metadata": {},
   "outputs": [],
   "source": [
    "gwf.dis.nlay.get_data(), gwf.dis.nrow.get_data(), gwf.dis.ncol.get_data()"
   ]
  },
  {
   "cell_type": "code",
   "execution_count": null,
   "id": "75fab2b3",
   "metadata": {},
   "outputs": [],
   "source": [
    "# plot grid\n",
    "fig, ax = plt.subplots(figsize=(10,10))\n",
    "mv = flopy.plot.PlotMapView(model=gwf)\n",
    "mv.plot_grid(lw=0.5)\n",
    "mv.plot_bc('WEL-dewater', label='Dewater Wells')\n",
    "mv.plot_bc('WEL-mar', label='Injection Wells')\n",
    "\n",
    "mv.plot_bc('DRN', color='green', label='Drain - GDE')\n",
    "mv.plot_bc('GHB', color='blue', label='GHB - regional aquifer')\n",
    "\n",
    "# mv.plot_array(gwf.dis.idomain.get_data(), color='gray', alpha=1)"
   ]
  },
  {
   "cell_type": "code",
   "execution_count": null,
   "id": "8f477e0d",
   "metadata": {},
   "outputs": [],
   "source": [
    "fig, ax = plt.subplots(figsize=(10,10))\n",
    "mv = flopy.plot.PlotMapView(model=gwf)\n",
    "mv.plot_grid(lw=0.5)\n",
    "arr = mv.plot_array(gwf.npf.k.get_data(), alpha=1)\n",
    "cb = plt.colorbar(mappable=arr, ax=ax, aspect=5.1)"
   ]
  },
  {
   "cell_type": "markdown",
   "id": "f3c0cd45",
   "metadata": {},
   "source": [
    "# Let's check the time discretization\n",
    "\n",
    "El modelo empieza en Enero del 2025 y tiene 3 periodos de estress de 1 time step cada uno."
   ]
  },
  {
   "cell_type": "code",
   "execution_count": null,
   "id": "46aa57f9",
   "metadata": {},
   "outputs": [],
   "source": [
    "tdis = sim.tdis\n",
    "\n",
    "# the start date time\n",
    "t0 = tdis.start_date_time.get_data()\n",
    "t0"
   ]
  },
  {
   "cell_type": "code",
   "execution_count": null,
   "id": "267e1199",
   "metadata": {},
   "outputs": [],
   "source": [
    "# the period data\n",
    "period_df = pd.DataFrame(tdis.perioddata.get_data())\n",
    "period_df"
   ]
  },
  {
   "cell_type": "code",
   "execution_count": null,
   "id": "1d8c66e8",
   "metadata": {},
   "outputs": [],
   "source": [
    "tot_tim = period_df.perlen.sum()\n",
    "tot_tim, \"days\""
   ]
  },
  {
   "cell_type": "code",
   "execution_count": null,
   "id": "a0dc6e3a",
   "metadata": {},
   "outputs": [],
   "source": [
    "# sim end time\n",
    "tf = pd.to_datetime(t0) + pd.Timedelta(days=tot_tim)\n",
    "tf"
   ]
  },
  {
   "cell_type": "markdown",
   "id": "c345305f",
   "metadata": {},
   "source": [
    "# Let's check some BCs"
   ]
  },
  {
   "cell_type": "code",
   "execution_count": null,
   "id": "928fe610",
   "metadata": {},
   "outputs": [],
   "source": [
    "gwf.wel[0]"
   ]
  },
  {
   "cell_type": "code",
   "execution_count": null,
   "id": "8684f767",
   "metadata": {},
   "outputs": [],
   "source": [
    "gwf.wel[0].stress_period_data.get_data()\n",
    "\n",
    "for kper in gwf.wel[0].stress_period_data.get_data():\n",
    "    display(pd.DataFrame(gwf.wel[0].stress_period_data.get_data()[kper]))"
   ]
  },
  {
   "cell_type": "code",
   "execution_count": null,
   "id": "5dd753cd",
   "metadata": {},
   "outputs": [],
   "source": [
    "for kper in gwf.wel[1].stress_period_data.get_data():\n",
    "    display(pd.DataFrame(gwf.wel[1].stress_period_data.get_data()[kper]))"
   ]
  },
  {
   "cell_type": "markdown",
   "id": "e5646c9d",
   "metadata": {},
   "source": [
    "# Observations"
   ]
  },
  {
   "cell_type": "code",
   "execution_count": null,
   "id": "80700874",
   "metadata": {},
   "outputs": [],
   "source": [
    "obs = pd.read_csv(os.path.join(\"model\", \n",
    "                         'model.obs_continuous_model.obs.head.wel-mar.csv.txt'),\n",
    "                         sep=\" \", \n",
    "                         header=None,\n",
    "                         skipinitialspace=True)\n",
    "\n",
    "obs_i = obs[3]\n",
    "obs_j = obs[4] \n",
    "\n",
    "# Get model dimensions\n",
    "nlay = gwf.dis.nlay.get_data()\n",
    "nrow = gwf.dis.nrow.get_data()\n",
    "ncol = gwf.dis.ncol.get_data()\n",
    "\n",
    "# Create empty array\n",
    "arr = np.zeros((nlay, nrow, ncol))\n",
    "\n",
    "# Mask with observation indices (assuming layer=0 for all obs)\n",
    "for i, j in zip(obs_i, obs_j):\n",
    "    arr[0, int(i)-1, int(j)-1] = 1 \n",
    "\n",
    "fig, ax = plt.subplots(figsize=(10,10))\n",
    "mv = flopy.plot.PlotMapView(model=gwf)\n",
    "mv.plot_grid(lw=0.5)\n",
    "mv.plot_array(arr[0],  alpha=1)\n",
    "ax.set_title('Observation Points in Injection Wells')\n",
    "# Plot observation points\n",
    "plt.show()"
   ]
  },
  {
   "cell_type": "code",
   "execution_count": null,
   "id": "250d59ca",
   "metadata": {},
   "outputs": [],
   "source": [
    "obs = pd.read_csv(os.path.join(\"model\", \n",
    "                         'model.obs_continuous_model.obs.head.pit.csv.txt'),\n",
    "                         sep=\" \", \n",
    "                         header=None,\n",
    "                         skipinitialspace=True)\n",
    "\n",
    "obs_i = obs[3]\n",
    "obs_j = obs[4] \n",
    "\n",
    "# Get model dimensions\n",
    "nlay = gwf.dis.nlay.get_data()\n",
    "nrow = gwf.dis.nrow.get_data()\n",
    "ncol = gwf.dis.ncol.get_data()\n",
    "\n",
    "# Create empty array\n",
    "arr = np.zeros((nlay, nrow, ncol))\n",
    "\n",
    "# Mask with observation indices (assuming layer=0 for all obs)\n",
    "for i, j in zip(obs_i, obs_j):\n",
    "    arr[0, int(i)-1, int(j)-1] = 1 \n",
    "\n",
    "fig, ax = plt.subplots(figsize=(10,10))\n",
    "mv = flopy.plot.PlotMapView(model=gwf)\n",
    "mv.plot_grid(lw=0.5)\n",
    "mv.plot_array(arr[0],  alpha=1)\n",
    "ax.set_title('Observation Points inside Pit')\n",
    "# Plot observation points\n",
    "plt.show()"
   ]
  },
  {
   "cell_type": "markdown",
   "id": "056de50a",
   "metadata": {},
   "source": []
  },
  {
   "cell_type": "code",
   "execution_count": null,
   "id": "891b99fb",
   "metadata": {},
   "outputs": [],
   "source": []
  },
  {
   "cell_type": "code",
   "execution_count": null,
   "id": "f7578fac",
   "metadata": {},
   "outputs": [],
   "source": []
  }
 ],
 "metadata": {
  "kernelspec": {
   "display_name": "gmdsitut",
   "language": "python",
   "name": "python3"
  },
  "language_info": {
   "codemirror_mode": {
    "name": "ipython",
    "version": 3
   },
   "file_extension": ".py",
   "mimetype": "text/x-python",
   "name": "python",
   "nbconvert_exporter": "python",
   "pygments_lexer": "ipython3",
   "version": "3.11.13"
  }
 },
 "nbformat": 4,
 "nbformat_minor": 5
}
